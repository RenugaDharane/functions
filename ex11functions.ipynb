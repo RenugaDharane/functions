{
 "cells": [
  {
   "cell_type": "code",
   "execution_count": 3,
   "metadata": {},
   "outputs": [
    {
     "name": "stdout",
     "output_type": "stream",
     "text": [
      "Function called.\n"
     ]
    }
   ],
   "source": [
    "#1: Calling a Function\n",
    "def my_function():\n",
    "  print(\"Function called.\")\n",
    "my_function()"
   ]
  },
  {
   "cell_type": "code",
   "execution_count": 1,
   "metadata": {},
   "outputs": [
    {
     "name": "stdout",
     "output_type": "stream",
     "text": [
      "Linux Language\n",
      "Unix Language\n",
      "Oracle Language\n"
     ]
    }
   ],
   "source": [
    "#2: Arguments\n",
    "def my_function(fname):\n",
    "  print(fname + \" Language\")\n",
    "\n",
    "my_function(\"Linux\")\n",
    "my_function(\"Unix\")\n",
    "my_function(\"Oracle\")"
   ]
  },
  {
   "cell_type": "code",
   "execution_count": 3,
   "metadata": {},
   "outputs": [
    {
     "name": "stdout",
     "output_type": "stream",
     "text": [
      "Renuga Dharane\n"
     ]
    }
   ],
   "source": [
    "#3: Number of Arguments\n",
    "def my_function(fname, lname):\n",
    "  print(fname + \" \" + lname)\n",
    "\n",
    "my_function(\"Renuga\", \"Dharane\")\n"
   ]
  },
  {
   "cell_type": "code",
   "execution_count": 5,
   "metadata": {},
   "outputs": [
    {
     "name": "stdout",
     "output_type": "stream",
     "text": [
      "The youngest child is Regina\n"
     ]
    }
   ],
   "source": [
    "#4: Arbitrary Arguments, *args\n",
    "def my_function(*kids):\n",
    "  print(\"The youngest child is \" + kids[2])\n",
    "\n",
    "my_function(\"Renuga\", \"Renita\", \"Regina\")\n"
   ]
  },
  {
   "cell_type": "code",
   "execution_count": 7,
   "metadata": {},
   "outputs": [
    {
     "name": "stdout",
     "output_type": "stream",
     "text": [
      "The youngest child is Renita\n"
     ]
    }
   ],
   "source": [
    "#5: Keyword Arguments\n",
    "def my_function(child3, child2, child1):\n",
    "  print(\"The youngest child is \" + child3)\n",
    "\n",
    "my_function(child1 = \"Regina\", child2 = \"Renuga\", child3 = \"Renita\")\n"
   ]
  },
  {
   "cell_type": "code",
   "execution_count": 8,
   "metadata": {},
   "outputs": [
    {
     "name": "stdout",
     "output_type": "stream",
     "text": [
      "Her last name is Blessina\n"
     ]
    }
   ],
   "source": [
    "#6: Arbitrary Keyword Arguments, **kwargs\n",
    "def my_function(**kid):\n",
    "  print(\"Her last name is \" + kid[\"lname\"])\n",
    "\n",
    "my_function(fname = \"Renita\", lname = \"Blessina\")\n"
   ]
  },
  {
   "cell_type": "code",
   "execution_count": 10,
   "metadata": {},
   "outputs": [
    {
     "name": "stdout",
     "output_type": "stream",
     "text": [
      "I am from South Korea\n",
      "I am from India\n",
      "I am from Japan\n",
      "I am from Thailand\n"
     ]
    }
   ],
   "source": [
    "#7: Default Parameter Value\n",
    "def my_function(country = \"Japan\"):\n",
    "  print(\"I am from \" + country)\n",
    "\n",
    "my_function(\"South Korea\")\n",
    "my_function(\"India\")\n",
    "my_function()\n",
    "my_function(\"Thailand\")\n"
   ]
  },
  {
   "cell_type": "code",
   "execution_count": 24,
   "metadata": {},
   "outputs": [
    {
     "name": "stdout",
     "output_type": "stream",
     "text": [
      "apple\n",
      "banana\n",
      "cherry\n"
     ]
    }
   ],
   "source": [
    "#8: Passing a List as an Argument\n",
    "def my_function(food):\n",
    "  for x in food:\n",
    "    print(x)\n",
    "\n",
    "fruits = [\"apple\", \"banana\", \"cherry\"]\n",
    "\n",
    "my_function(fruits)\n"
   ]
  },
  {
   "cell_type": "code",
   "execution_count": 12,
   "metadata": {},
   "outputs": [
    {
     "name": "stdout",
     "output_type": "stream",
     "text": [
      "15\n",
      "25\n",
      "45\n"
     ]
    }
   ],
   "source": [
    "#9: Return Values\n",
    "def my_function(x):\n",
    "  return 5 * x\n",
    "\n",
    "print(my_function(3))\n",
    "print(my_function(5))\n",
    "print(my_function(9))\n"
   ]
  },
  {
   "cell_type": "code",
   "execution_count": 13,
   "metadata": {},
   "outputs": [
    {
     "name": "stdout",
     "output_type": "stream",
     "text": [
      "Hi! I'm Renuga.\n"
     ]
    }
   ],
   "source": [
    "#10: \n",
    "def my_function():\n",
    "  print(\"Hi! I'm Renuga.\")\n",
    "my_function()"
   ]
  },
  {
   "cell_type": "code",
   "execution_count": 15,
   "metadata": {},
   "outputs": [
    {
     "name": "stdout",
     "output_type": "stream",
     "text": [
      "Sonam Kapoor\n",
      "Kareena Kapoor\n",
      "Priyanka Kapoor\n"
     ]
    }
   ],
   "source": [
    "#11\n",
    "def my_function(fname):\n",
    "  print(fname + \" Kapoor\")\n",
    "\n",
    "my_function(\"Sonam\")\n",
    "my_function(\"Kareena\")\n",
    "my_function(\"Priyanka\")"
   ]
  },
  {
   "cell_type": "code",
   "execution_count": 16,
   "metadata": {},
   "outputs": [
    {
     "name": "stdout",
     "output_type": "stream",
     "text": [
      "Hello Kitty\n"
     ]
    }
   ],
   "source": [
    "#12\n",
    "def my_function(fname, lname):\n",
    "  print(fname + \" \" + lname)\n",
    "\n",
    "my_function(\"Hello\", \"Kitty\")\n"
   ]
  },
  {
   "cell_type": "code",
   "execution_count": 17,
   "metadata": {},
   "outputs": [
    {
     "name": "stdout",
     "output_type": "stream",
     "text": [
      "Suppasit Jongacheevat\n"
     ]
    }
   ],
   "source": [
    "#13\n",
    "def my_function(fname, lname):\n",
    "  print(fname + \" \" + lname)\n",
    "\n",
    "my_function(\"Suppasit\", \"Jongacheevat\")\n"
   ]
  },
  {
   "cell_type": "code",
   "execution_count": 19,
   "metadata": {},
   "outputs": [
    {
     "name": "stdout",
     "output_type": "stream",
     "text": [
      "The largest number is 3\n"
     ]
    }
   ],
   "source": [
    "#14\n",
    "def my_function(*numbers):\n",
    "  print(\"The largest number is \" + numbers[2])\n",
    "\n",
    "my_function(\"1\", \"2\", \"3\")\n"
   ]
  },
  {
   "cell_type": "code",
   "execution_count": 20,
   "metadata": {},
   "outputs": [
    {
     "name": "stdout",
     "output_type": "stream",
     "text": [
      "The largest number is 40\n"
     ]
    }
   ],
   "source": [
    "#15\n",
    "def my_function(no3, no2, no1):\n",
    "  print(\"The largest number is \" + no3)\n",
    "\n",
    "my_function(no1 = \"15\", no2 = \"34\", no3 = \"40\")\n"
   ]
  },
  {
   "cell_type": "code",
   "execution_count": 21,
   "metadata": {},
   "outputs": [
    {
     "name": "stdout",
     "output_type": "stream",
     "text": [
      "Her last name is Dharane\n"
     ]
    }
   ],
   "source": [
    "#16\n",
    "def my_function(**kid):\n",
    "  print(\"Her last name is \" + kid[\"lname\"])\n",
    "\n",
    "my_function(fname = \"Renuga\", lname = \"Dharane\")\n"
   ]
  },
  {
   "cell_type": "code",
   "execution_count": 22,
   "metadata": {},
   "outputs": [
    {
     "name": "stdout",
     "output_type": "stream",
     "text": [
      "I like Orange\n",
      "I like Kiwi\n",
      "I like Apple\n",
      "I like Banana\n"
     ]
    }
   ],
   "source": [
    "#17\n",
    "def my_function(fruits = \"Apple\"):\n",
    "  print(\"I like \" + fruits)\n",
    "\n",
    "my_function(\"Orange\")\n",
    "my_function(\"Kiwi\")\n",
    "my_function()\n",
    "my_function(\"Banana\")\n"
   ]
  },
  {
   "cell_type": "code",
   "execution_count": 25,
   "metadata": {},
   "outputs": [
    {
     "name": "stdout",
     "output_type": "stream",
     "text": [
      "cat\n",
      "dog\n",
      "cow\n"
     ]
    }
   ],
   "source": [
    "#18\n",
    "def my_function(meow):\n",
    "  for x in meow :\n",
    "    print(x)\n",
    "\n",
    "animals = [\"cat\", \"dog\", \"cow\"]\n",
    "\n",
    "my_function(animals)\n"
   ]
  },
  {
   "cell_type": "code",
   "execution_count": 28,
   "metadata": {},
   "outputs": [
    {
     "name": "stdout",
     "output_type": "stream",
     "text": [
      "0.16129032258064516\n",
      "0.09615384615384616\n",
      "0.053763440860215055\n"
     ]
    }
   ],
   "source": [
    "#19\n",
    "def my_function(x):\n",
    "  return 5 / x\n",
    "\n",
    "print(my_function(31))\n",
    "print(my_function(52))\n",
    "print(my_function(93))\n"
   ]
  },
  {
   "cell_type": "code",
   "execution_count": 29,
   "metadata": {},
   "outputs": [
    {
     "name": "stdout",
     "output_type": "stream",
     "text": [
      "2\n",
      "0\n",
      "5\n"
     ]
    }
   ],
   "source": [
    "#20\n",
    "def my_function(x):\n",
    "  return 5 % x\n",
    "\n",
    "print(my_function(3))\n",
    "print(my_function(5))\n",
    "print(my_function(9))\n"
   ]
  },
  {
   "cell_type": "code",
   "execution_count": null,
   "metadata": {},
   "outputs": [],
   "source": []
  }
 ],
 "metadata": {
  "kernelspec": {
   "display_name": "Python 3",
   "language": "python",
   "name": "python3"
  },
  "language_info": {
   "codemirror_mode": {
    "name": "ipython",
    "version": 3
   },
   "file_extension": ".py",
   "mimetype": "text/x-python",
   "name": "python",
   "nbconvert_exporter": "python",
   "pygments_lexer": "ipython3",
   "version": "3.8.3"
  }
 },
 "nbformat": 4,
 "nbformat_minor": 4
}
